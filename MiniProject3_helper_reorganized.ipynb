{
 "cells": [
  {
   "cell_type": "code",
   "execution_count": null,
   "metadata": {
    "collapsed": true
   },
   "outputs": [],
   "source": [
    "# Please review the following code.\n",
    "# Prerequisite, data from MiniProject2, pandas, numpy, and sklearn packages.\n",
    "# use conda install pandas, numpy, sklearn\n",
    "\n",
    "# The first part is partially solution to Mini Project 2: loads CSV and transforms and normalizes columns.\n",
    "# The second part creates clusters over the restaurant records.\n",
    "\n",
    "# In Mini Project 3, use the code pieces to generate the following program.\n",
    "# 1) prepare a UI where it prompts some parameters and displays results in a simple text area.\n",
    "# 1a) I.e., prompt for the number of clusters, number of clustering runs, and two restaurant ids\n",
    "# 1b) First parameter, number of clusters is the value of k used in kmeans clustering algorithm.\n",
    "# 1c) Second parameter, the number of clustering runs is the number of times you will apply clustering \n",
    "#     to the dataset. For example, you can convert the clustering part of the example code into a function, \n",
    "#     and call it this many times to obtain different clusterings.\n",
    "# 1d) Third and fourth parameters are restaurant ids to look for within cluster assignments.\n",
    "\n",
    "\n",
    "# 2) Place a \"RUN\" button that starts clustering of restaurants many times.\n",
    "#    When the computation is completed, display some summaries in a text area in the UI.\n",
    "# 2a) the number of times the two restaurants are placed in the same cluster.\n",
    "# 2b) for restaurant 1 and restaurant 2 entered by the user also print\n",
    "#     ids of the top restaurants that frequently placed in the same clusters during different clustering runs.\n",
    "#  For example, say restaurant 1 and 2 are selected, your output will be:\n",
    "#  Restaurant 1 and Restaruant 2 are placed in the same cluster 4 times (out of 10).\n",
    "#  Restaurant 1 is placed in the same cluster with Restaurant 7 the most frequent (7 times).\n",
    "#  Restaurant 2 is placed in the same cluster with Restaurant 9 the most frequent (8 times)."
   ]
  },
  {
   "cell_type": "code",
   "execution_count": null,
   "metadata": {
    "collapsed": true
   },
   "outputs": [],
   "source": [
    "# 1) PREPARE DATASET\n",
    "import pandas as pd\n",
    "import numpy as np\n",
    "\n",
    "data_frame = pd.read_csv('Miniproject2_train.csv')\n",
    "\n",
    "#transform non-numeric\n",
    "data_frame['City'] = (data_frame['City'] == 'İstanbul').astype(int)\n",
    "data_frame['City Group'] = (data_frame['City Group'] == 'Big Cities').astype(int)\n",
    "data_frame['Type'] = (data_frame['Type'] == 'IL').astype(int)\n",
    "del data_frame['Open Date']\n",
    "\n",
    "#normalize numeric\n",
    "for column in data_frame.columns:\n",
    "    if column != 'Id' :\n",
    "        colmin = np.min(data_frame[column])\n",
    "        colmax = np.max(data_frame[column])\n",
    "        data_frame[column] = (data_frame[column]-colmin)/(colmax-colmin)"
   ]
  },
  {
   "cell_type": "code",
   "execution_count": null,
   "metadata": {
    "collapsed": true
   },
   "outputs": [],
   "source": [
    "# 2) CREATE CLUSTER\n",
    "\n",
    "from sklearn.cluster import KMeans\n",
    "\n",
    "clusterer = KMeans(n_clusters = 10)\n",
    "cluster_assignments = clusterer.fit_predict(data_frame.iloc[:,1:41])\n",
    "cluster_summary = pd.concat([data_frame['Id'], pd.DataFrame(cluster_assignments)], axis=1)\n",
    "cluster_summary.columns = ['Id', 'cluster_id']\n",
    "cluster_summary.to_csv('cluster_assignment.csv',index=False, header=False)"
   ]
  },
  {
   "cell_type": "code",
   "execution_count": null,
   "metadata": {
    "scrolled": true
   },
   "outputs": [],
   "source": [
    "# #  IN CLASS WORKSHOP\n",
    "# #  PLEASE REVIEW AND UNDERSTAND THIS AS A GUIDELINE, DO NOT COPY PASTE DIRECTLY INTO YOUR CODE\n",
    "from sklearn.cluster import KMeans\n",
    "\n",
    "input_restaurant_1 = 70\n",
    "input_restaurant_2 = 13\n",
    "\n",
    "k_means_cluster_count = 10\n",
    "clustering_application_count = 20\n",
    "\n",
    "coappearing_counts = {}\n",
    "restaurant_ids = ............................\n",
    "\n",
    "for clustering_application_index in range(0,clustering_application_count):   \n",
    "    clusterer = KMeans(n_clusters = k_means_cluster_count)\n",
    "    cluster_assignments = clusterer.fit_predict(data_frame.iloc[:,1:41])\n",
    "    cluster_summary = pd.concat([data_frame['Id'], pd.DataFrame(cluster_assignments)], axis=1)\n",
    "    cluster_summary.columns = ['Id', 'cluster_id']\n",
    "    cluster_summary.to_csv('cluster_assignment.csv',index=False, header=False)\n",
    "    \n",
    "    f = open('cluster_assignment.csv')\n",
    "    cluster_assignments = f.readlines()\n",
    "    \n",
    "    for line_outer in cluster_assignments:\n",
    "        restaurant_outer = ............................\n",
    "        cluster_outer = ............................\n",
    "        restaurant_ids[restaurant_outer] = 1\n",
    "        \n",
    "        for line_inner in cluster_assignments:\n",
    "            restaurant_inner = ............................\n",
    "            cluster_inner = ............................\n",
    "            \n",
    "            coappearing_counts.setdefault(str(restaurant_inner)+','+str(restaurant_outer),0)\n",
    "            \n",
    "            if cluster_inner == cluster_outer: \n",
    "                coappearing_counts[str(restaurant_inner)+','+str(restaurant_outer)] = coappearing_counts[str(restaurant_inner)+','+str(restaurant_outer)] + 1\n",
    "                \n",
    "max_coappearing_restaurant = ............................\n",
    "max_coappearing_count=............................\n",
    "\n",
    "for restaurant_id in restaurant_ids.keys():\n",
    "    coappearing_count = coappearing_counts[............................]\n",
    "    if max_coappearing_count < coappearing_count:\n",
    "        ............................\n",
    "        ............................\n",
    "        \n",
    "print input_restaurant_1, max_coappearing_restaurant, max_coappearing_count"
   ]
  }
 ],
 "metadata": {
  "kernelspec": {
   "display_name": "Python [conda env:Python27]",
   "language": "python",
   "name": "conda-env-Python27-py"
  },
  "language_info": {
   "codemirror_mode": {
    "name": "ipython",
    "version": 2
   },
   "file_extension": ".py",
   "mimetype": "text/x-python",
   "name": "python",
   "nbconvert_exporter": "python",
   "pygments_lexer": "ipython2",
   "version": "2.7.13"
  }
 },
 "nbformat": 4,
 "nbformat_minor": 2
}
